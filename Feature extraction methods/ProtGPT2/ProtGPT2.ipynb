{
  "nbformat": 4,
  "nbformat_minor": 0,
  "metadata": {
    "colab": {
      "provenance": []
    },
    "kernelspec": {
      "name": "python3",
      "display_name": "Python 3"
    },
    "language_info": {
      "name": "python"
    }
  },
  "cells": [
    {
      "cell_type": "code",
      "execution_count": null,
      "metadata": {
        "colab": {
          "base_uri": "https://localhost:8080/"
        },
        "id": "iNMmqPUkNKzV",
        "outputId": "78b0625f-24de-4235-db3c-2c9b086a0c8b"
      },
      "outputs": [
        {
          "output_type": "stream",
          "name": "stdout",
          "text": [
            "Requirement already satisfied: transformers in /usr/local/lib/python3.11/dist-packages (4.48.3)\n",
            "Requirement already satisfied: pandas in /usr/local/lib/python3.11/dist-packages (2.2.2)\n",
            "Collecting biopython\n",
            "  Downloading biopython-1.85-cp311-cp311-manylinux_2_17_x86_64.manylinux2014_x86_64.whl.metadata (13 kB)\n",
            "Requirement already satisfied: filelock in /usr/local/lib/python3.11/dist-packages (from transformers) (3.17.0)\n",
            "Requirement already satisfied: huggingface-hub<1.0,>=0.24.0 in /usr/local/lib/python3.11/dist-packages (from transformers) (0.28.1)\n",
            "Requirement already satisfied: numpy>=1.17 in /usr/local/lib/python3.11/dist-packages (from transformers) (1.26.4)\n",
            "Requirement already satisfied: packaging>=20.0 in /usr/local/lib/python3.11/dist-packages (from transformers) (24.2)\n",
            "Requirement already satisfied: pyyaml>=5.1 in /usr/local/lib/python3.11/dist-packages (from transformers) (6.0.2)\n",
            "Requirement already satisfied: regex!=2019.12.17 in /usr/local/lib/python3.11/dist-packages (from transformers) (2024.11.6)\n",
            "Requirement already satisfied: requests in /usr/local/lib/python3.11/dist-packages (from transformers) (2.32.3)\n",
            "Requirement already satisfied: tokenizers<0.22,>=0.21 in /usr/local/lib/python3.11/dist-packages (from transformers) (0.21.0)\n",
            "Requirement already satisfied: safetensors>=0.4.1 in /usr/local/lib/python3.11/dist-packages (from transformers) (0.5.3)\n",
            "Requirement already satisfied: tqdm>=4.27 in /usr/local/lib/python3.11/dist-packages (from transformers) (4.67.1)\n",
            "Requirement already satisfied: python-dateutil>=2.8.2 in /usr/local/lib/python3.11/dist-packages (from pandas) (2.8.2)\n",
            "Requirement already satisfied: pytz>=2020.1 in /usr/local/lib/python3.11/dist-packages (from pandas) (2025.1)\n",
            "Requirement already satisfied: tzdata>=2022.7 in /usr/local/lib/python3.11/dist-packages (from pandas) (2025.1)\n",
            "Requirement already satisfied: fsspec>=2023.5.0 in /usr/local/lib/python3.11/dist-packages (from huggingface-hub<1.0,>=0.24.0->transformers) (2024.10.0)\n",
            "Requirement already satisfied: typing-extensions>=3.7.4.3 in /usr/local/lib/python3.11/dist-packages (from huggingface-hub<1.0,>=0.24.0->transformers) (4.12.2)\n",
            "Requirement already satisfied: six>=1.5 in /usr/local/lib/python3.11/dist-packages (from python-dateutil>=2.8.2->pandas) (1.17.0)\n",
            "Requirement already satisfied: charset-normalizer<4,>=2 in /usr/local/lib/python3.11/dist-packages (from requests->transformers) (3.4.1)\n",
            "Requirement already satisfied: idna<4,>=2.5 in /usr/local/lib/python3.11/dist-packages (from requests->transformers) (3.10)\n",
            "Requirement already satisfied: urllib3<3,>=1.21.1 in /usr/local/lib/python3.11/dist-packages (from requests->transformers) (2.3.0)\n",
            "Requirement already satisfied: certifi>=2017.4.17 in /usr/local/lib/python3.11/dist-packages (from requests->transformers) (2025.1.31)\n",
            "Downloading biopython-1.85-cp311-cp311-manylinux_2_17_x86_64.manylinux2014_x86_64.whl (3.3 MB)\n",
            "\u001b[2K   \u001b[90m━━━━━━━━━━━━━━━━━━━━━━━━━━━━━━━━━━━━━━━━\u001b[0m \u001b[32m3.3/3.3 MB\u001b[0m \u001b[31m14.1 MB/s\u001b[0m eta \u001b[36m0:00:00\u001b[0m\n",
            "\u001b[?25hInstalling collected packages: biopython\n",
            "Successfully installed biopython-1.85\n"
          ]
        }
      ],
      "source": [
        "!pip install transformers pandas biopython"
      ]
    },
    {
      "cell_type": "code",
      "source": [
        "from google.colab import drive\n",
        "drive.mount('/content/drive')"
      ],
      "metadata": {
        "colab": {
          "base_uri": "https://localhost:8080/"
        },
        "id": "HbCqxknnNTjd",
        "outputId": "e4aac358-5b14-4959-d14f-03d7169fc870"
      },
      "execution_count": null,
      "outputs": [
        {
          "output_type": "stream",
          "name": "stdout",
          "text": [
            "Mounted at /content/drive\n"
          ]
        }
      ]
    },
    {
      "cell_type": "code",
      "source": [
        "import pandas as pd\n",
        "import torch  # Import PyTorch\n",
        "from transformers import GPT2Tokenizer, GPT2Model\n",
        "from Bio import SeqIO\n",
        "\n",
        "# Load ProtGPT2 model and tokenizer\n",
        "tokenizer = GPT2Tokenizer.from_pretrained(\"nferruz/ProtGPT2\")\n",
        "model = GPT2Model.from_pretrained(\"nferruz/ProtGPT2\")\n",
        "\n",
        "def extract_features(sequence):\n",
        "    # Tokenize the sequence\n",
        "    inputs = tokenizer(sequence, return_tensors=\"pt\", max_length=1024, truncation=True)\n",
        "\n",
        "    # Get the hidden states from the model\n",
        "    with torch.no_grad():  # Disable gradient calculation for inference\n",
        "        outputs = model(**inputs)\n",
        "\n",
        "    # Extract the last hidden state (features)\n",
        "    last_hidden_state = outputs.last_hidden_state\n",
        "\n",
        "    # Average over the sequence length to get a fixed-size feature vector\n",
        "    features = last_hidden_state.mean(dim=1).squeeze().numpy()\n",
        "\n",
        "    return features\n",
        "\n",
        "def process_fasta(fasta_file):\n",
        "    sequences = []\n",
        "    features_list = []\n",
        "\n",
        "    # Parse the FASTA file\n",
        "    for record in SeqIO.parse(fasta_file, \"fasta\"):\n",
        "        sequence = str(record.seq)\n",
        "        sequences.append(sequence)\n",
        "\n",
        "        # Extract features\n",
        "        features = extract_features(sequence)\n",
        "        features_list.append(features)\n",
        "\n",
        "    # Create a DataFrame\n",
        "    df = pd.DataFrame(features_list)\n",
        "    df.insert(0, \"Sequence\", sequences)\n",
        "\n",
        "    return df\n",
        "\n",
        "# Path to your FASTA file\n",
        "fasta_file = \"/content/drive/MyDrive/Colab Notebooks/AntiOxident Peptides 2025/AVP-test2-set.fasta\"\n",
        "\n",
        "# Process the FASTA file and extract features\n",
        "df = process_fasta(fasta_file)\n",
        "\n",
        "# Save the features to a CSV file\n",
        "df.to_csv(\"ProtGPT2-AVP-Test2.csv\", index=False)\n",
        "\n",
        "print(\"CBiLSuccSite positive.csv'.\")"
      ],
      "metadata": {
        "colab": {
          "base_uri": "https://localhost:8080/"
        },
        "id": "bsduXoZ9NNXS",
        "outputId": "d14418ef-cc93-4fb4-eb32-8c9db36fe056"
      },
      "execution_count": null,
      "outputs": [
        {
          "output_type": "stream",
          "name": "stdout",
          "text": [
            "CBiLSuccSite positive.csv'.\n"
          ]
        }
      ]
    }
  ]
}